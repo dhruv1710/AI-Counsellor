{
 "cells": [
  {
   "cell_type": "code",
   "execution_count": 10,
   "metadata": {},
   "outputs": [
    {
     "data": {
      "text/plain": [
       "True"
      ]
     },
     "execution_count": 10,
     "metadata": {},
     "output_type": "execute_result"
    }
   ],
   "source": [
    "from langchain_google_genai import ChatGoogleGenerativeAI\n",
    "import dotenv\n",
    "from langchain_community.document_loaders import WebBaseLoader, RecursiveUrlLoader\n",
    "from langchain_text_splitters import RecursiveCharacterTextSplitter\n",
    "from langchain_chroma import Chroma\n",
    "from langchain_google_genai import GoogleGenerativeAIEmbeddings\n",
    "from langchain.chains.combine_documents import create_stuff_documents_chain\n",
    "from langchain_core.prompts import ChatPromptTemplate, MessagesPlaceholder\n",
    "from langchain_core.messages import HumanMessage\n",
    "dotenv.load_dotenv()"
   ]
  },
  {
   "cell_type": "code",
   "execution_count": 91,
   "metadata": {},
   "outputs": [],
   "source": [
    "import os\n",
    "from langchain_groq import ChatGroq\n",
    "\n",
    "\n",
    "chat = ChatGroq(temperature=0,groq_api_key= os.getenv('GROQ'),model_name = 'llama3-70b-8192')\n",
    "# text_splitter = RecursiveCharacterTextSplitter(chunk_size=500, chunk_overlap=0)\n"
   ]
  },
  {
   "cell_type": "markdown",
   "metadata": {},
   "source": [
    "## Load Data"
   ]
  },
  {
   "cell_type": "markdown",
   "metadata": {},
   "source": []
  },
  {
   "cell_type": "code",
   "execution_count": 12,
   "metadata": {},
   "outputs": [],
   "source": [
    "data = {\n",
    "    'wikis':['National_Institute_of_Open_Schooling','Central_Board_of_Secondary_Education','International_General_Certificate_of_Secondary_Education','International_Baccalaureate','Category:State_secondary_education_boards_of_India'],\n",
    "    'websites':['https://byjus.com/entrance-examinations/'],\n",
    "    'recursive':['https://vikaspedia.in/education/career-guidance','https://nios.ac.in','https://cbseacademic.nic.in','https://www.cambridgeinternational.org']\n",
    "}"
   ]
  },
  {
   "cell_type": "code",
   "execution_count": 13,
   "metadata": {},
   "outputs": [
    {
     "name": "stdout",
     "output_type": "stream",
     "text": [
      "0 wikis\n",
      "1 websites\n",
      "2 recursive\n"
     ]
    }
   ],
   "source": [
    "from bs4 import BeautifulSoup as Soup\n",
    "from langchain_community.vectorstores.utils import filter_complex_metadata\n",
    "text_splitter = RecursiveCharacterTextSplitter(chunk_size=500, chunk_overlap=50)\n",
    "chroma_db = Chroma(collection_name=\"counsellor\",embedding_function=GoogleGenerativeAIEmbeddings(model='models/embedding-001'), persist_directory=\"./db3\")\n",
    "for k,v in enumerate(data):\n",
    "    print(k,v)\n",
    "    if v == 'wikis':\n",
    "        loader = WebBaseLoader([\"https://en.wikipedia.org/wiki/{page}\" for page in data[v] ])\n",
    "        d = loader.load()\n",
    "        text_splits = text_splitter.split_documents(d)\n",
    "    if v =='websites':\n",
    "        loader = WebBaseLoader(data[v])\n",
    "        k = loader.load()\n",
    "        text_splits = text_splitter.split_documents(k)\n",
    "    if v == 'recursive':\n",
    "        for web in data[v]:\n",
    "            loader = RecursiveUrlLoader(url=web, max_depth=1, )\n",
    "            docs = loader.load()\n",
    "            text_splits = text_splitter.split_documents(docs)\n",
    "    \n",
    "    chroma_db.add_documents(filter_complex_metadata(text_splits),)"
   ]
  },
  {
   "cell_type": "code",
   "execution_count": 8,
   "metadata": {},
   "outputs": [],
   "source": [
    "import cohere \n",
    "\n",
    "os.environ['COHERE_API_KEY'] = os.getenv('COHERE')\n",
    "co =  cohere.Client(os.environ['COHERE_API_KEY'])"
   ]
  },
  {
   "cell_type": "code",
   "execution_count": 70,
   "metadata": {},
   "outputs": [],
   "source": [
    "retriever = chroma_db.as_retriever(search_kwargs={\"k\": 25})"
   ]
  },
  {
   "cell_type": "code",
   "execution_count": 71,
   "metadata": {},
   "outputs": [],
   "source": [
    "query ='I got 50% in 12th CBSE Board Exams and I got 68%tile in JEE Mains What do I do now?'"
   ]
  },
  {
   "cell_type": "code",
   "execution_count": 72,
   "metadata": {},
   "outputs": [],
   "source": [
    "docs = retriever.invoke(query,k=25)"
   ]
  },
  {
   "cell_type": "code",
   "execution_count": 73,
   "metadata": {},
   "outputs": [
    {
     "data": {
      "text/plain": [
       "25"
      ]
     },
     "execution_count": 73,
     "metadata": {},
     "output_type": "execute_result"
    }
   ],
   "source": [
    "docs.__len__()"
   ]
  },
  {
   "cell_type": "code",
   "execution_count": 74,
   "metadata": {},
   "outputs": [],
   "source": [
    "import re\n",
    "from langchain_core.documents import Document\n",
    "import unicodedata\n",
    "\n",
    "def remove_control_characters(text):\n",
    "    return \"\".join(ch for ch in text if unicodedata.category(ch)[0] != \"C\")\n",
    "def clean_text(text):\n",
    "    # Remove leading/trailing whitespace and empty strings\n",
    "    cleaned_text = re.sub(r'^\\s*$\\n', '', text, flags=re.MULTILINE)\n",
    "    # Remove strings containing only whitespace\n",
    "    cleaned_text = ''.join([line for line in cleaned_text.splitlines() if line.strip()])\n",
    "    return cleaned_text\n",
    "\n",
    "cleaned_documents = [remove_control_characters(clean_text(doc.page_content)) for doc in docs]"
   ]
  },
  {
   "cell_type": "code",
   "execution_count": 75,
   "metadata": {},
   "outputs": [
    {
     "data": {
      "text/plain": [
       "['KCET Counselling  KCET Sample Papers  KCET FAQs  KCET Notifications  KCET Solutions  WBJEEWBJEE Exam Dates  WBJEE Application Form  WBJEE Syllabus  WBJEE Question Paper  WBJEE Admit Card  WBJEE Cutoff  WBJEE Eligibility  WBJEE Exam Pattern  WBJEE Counselling  WBJEE Notifications  GUJCETGUJCET Exam Dates  GUJCET Application Form  GUJCET Syllabus  GUJCET Question Papers  GUJCET Admit Card  GUJCET Cut Off  GUJCET Eligibility  GUJCET Exam Pattern  SRMJEEESRMJEEE Application Form  SRMJEEE Admit',\n",
       " 'UPSEEUPSEE Exam Dates  UPSEE Application Form  UPSEE Syllabus  UPSEE Admit Card  UPSEE Cutoff  UPSEE Eligibility  UPSEE Exam Pattern  UPSEE Counselling  UPSEE Notification  UPSEE FAQs  UPSEE College Predictor  UPSEE Rank Predictor  HPCETHPCET Question Papers  HPCET Application Form  HPCET Dates  HPCET Counseling  HPCET Answer Key  HPCET Admit Card  HPCET Cut Off  HPCET Rank List  HPCET Result  HPCET Syllabus  HP CET Exam Pattern  AP EAMCETAP EAMCET Application Form  AP EAMCET Syllabus  AP',\n",
       " 'SRMJEEESRMJEEE Application Form  SRMJEEE Admit Card  SRMJEEE Dates  SRMJEEE Question Paper  SRMJEEE Answer Key  SRMJEEE Results  SRMJEEE Counseling  SRMJEEE College List  SRMJEEE Cutoffs  SRMJEEE Rank List  SRMJEEE Seat Allotment  GCETGCET Application Form  GCET Syllabus  GCET Exam Pattern  GCET Admit Card  GCET Exam Dates  GCET Question Papers  GCET Answer Key  GCET Results  GCET Cutoff  GCET Rank List  Assam CEEAssam CEE Application Form  Assam CEE Syllabus  Assam CEE Pattern  Assam CEE',\n",
       " 'Question Paper  OJEE Allotment  OJEE Answer Key  OJEE College List  PTUPTU Application Form  PTU Exam Results  PTU Syllabus  PTU Exam Dates  PTU Admit Card  PTU College List  PTU Counselling   CMC VelloreVITEEEVITEEE Exam Dates  VITEEE Result  VITEEE Application Form  VITEEE Question Papers  VITEEE Syllabus  VITEEE Exam Pattern  VITEEE College List  VITEEE Cut Off  VITEEE Admit Card  VITEEE Answer Key  VITEEE Rank List  VITEEE Allotment  VITEEE Counselling   AP POLYCET GPAT JIPMER NATA JEXPOTS',\n",
       " 'Question Paper  OJEE Allotment  OJEE Answer Key  OJEE College List  PTUPTU Application Form  PTU Exam Results  PTU Syllabus  PTU Exam Dates  PTU Admit Card  PTU College List  PTU Counselling   CMC VelloreVITEEEVITEEE Exam Dates  VITEEE Result  VITEEE Application Form  VITEEE Question Papers  VITEEE Syllabus  VITEEE Exam Pattern  VITEEE College List  VITEEE Cut Off  VITEEE Admit Card  VITEEE Answer Key  VITEEE Rank List  VITEEE Allotment  VITEEE Counselling   AP POLYCET GPAT JIPMER NATA JEXPOTS',\n",
       " 'Exam Pattern  KCET Counselling  KCET Sample Papers  KCET FAQs  KCET Notifications  KCET Solutions  WBJEEWBJEE Exam Dates  WBJEE Application Form  WBJEE Syllabus  WBJEE Question Paper  WBJEE Admit Card  WBJEE Cutoff  WBJEE Eligibility  WBJEE Exam Pattern  WBJEE Counselling  WBJEE Notifications  GUJCETGUJCET Exam Dates  GUJCET Application Form  GUJCET Syllabus  GUJCET Question Papers  GUJCET Admit Card  GUJCET Cut Off  GUJCET Eligibility  GUJCET Exam Pattern  SRMJEEESRMJEEE Application Form',\n",
       " 'Exam Pattern  KCET Counselling  KCET Sample Papers  KCET FAQs  KCET Notifications  KCET Solutions  WBJEEWBJEE Exam Dates  WBJEE Application Form  WBJEE Syllabus  WBJEE Question Paper  WBJEE Admit Card  WBJEE Cutoff  WBJEE Eligibility  WBJEE Exam Pattern  WBJEE Counselling  WBJEE Notifications  GUJCETGUJCET Exam Dates  GUJCET Application Form  GUJCET Syllabus  GUJCET Question Papers  GUJCET Admit Card  GUJCET Cut Off  GUJCET Eligibility  GUJCET Exam Pattern  SRMJEEESRMJEEE Application Form',\n",
       " 'Gujarat PGCET – Gujarat Post Graduate Common Entrance TestHaryana LEET – Haryana Lateral Entry Entrance Test for Engineering',\n",
       " 'Gujarat PGCET – Gujarat Post Graduate Common Entrance TestHaryana LEET – Haryana Lateral Entry Entrance Test for Engineering',\n",
       " 'Answer KeyNEET 2023 Question Paper AnalysisNEET 2022 Question PaperNEET 2022 Answer KeyNEET 2022 Question paper analysisNEET 2022 ResultsNEET Eligibility CriteriaNEET Question PapersNEET Sample PapersNEET PreparationNEET SyllabusNEET QuestionsGATE 2024GATEGATE Previous Year Question PapersGATE Syllabus GATE Syllabus For CSEGATE Syllabus For ECEGATE Syllabus For Civil EngineeringGATE Syllabus For Mechanical EngineeringGATE Aptitude SyllabusGATE Study Material GATE Notes For CSEGATE Difference',\n",
       " 'Off  TNEA College Predictor  TNEA Random Number  TNEA Certificate Verification  TNEA College List  TNEA Syllabus  TNEA Allotment  KEAMKEAM Application Form  KEAM Syllabus  KEAM Exam Pattern  KEAM Eligibility Criteria  KEAM Admit Card  KEAM Exam Date  KEAM Question Paper  KEAM Answer Key  KEAM Result  KEAM Cutoff  KEAM Allotment  KEAM Rank List  KEAM College Predictor   JEECUPBITSATBITSAT Exam Dates  BITSAT Cut Off  BITSAT Question Papers  BITSAT Application Form  BITSAT Syllabus  BITSAT Admit',\n",
       " 'Off  TNEA College Predictor  TNEA Random Number  TNEA Certificate Verification  TNEA College List  TNEA Syllabus  TNEA Allotment  KEAMKEAM Application Form  KEAM Syllabus  KEAM Exam Pattern  KEAM Eligibility Criteria  KEAM Admit Card  KEAM Exam Date  KEAM Question Paper  KEAM Answer Key  KEAM Result  KEAM Cutoff  KEAM Allotment  KEAM Rank List  KEAM College Predictor   JEECUPBITSATBITSAT Exam Dates  BITSAT Cut Off  BITSAT Question Papers  BITSAT Application Form  BITSAT Syllabus  BITSAT Admit',\n",
       " 'Card  UPSEE Cutoff  UPSEE Eligibility  UPSEE Exam Pattern  UPSEE Counselling  UPSEE Notification  UPSEE FAQs  UPSEE College Predictor  UPSEE Rank Predictor  HPCETHPCET Question Papers  HPCET Application Form  HPCET Dates  HPCET Counseling  HPCET Answer Key  HPCET Admit Card  HPCET Cut Off  HPCET Rank List  HPCET Result  HPCET Syllabus  HP CET Exam Pattern  AP EAMCETAP EAMCET Application Form  AP EAMCET Syllabus  AP EAMCET Eligibility Criteria  AP EAMCET Exam Pattern  AP EAMCET Admit Card  AP',\n",
       " 'Card  UPSEE Cutoff  UPSEE Eligibility  UPSEE Exam Pattern  UPSEE Counselling  UPSEE Notification  UPSEE FAQs  UPSEE College Predictor  UPSEE Rank Predictor  HPCETHPCET Question Papers  HPCET Application Form  HPCET Dates  HPCET Counseling  HPCET Answer Key  HPCET Admit Card  HPCET Cut Off  HPCET Rank List  HPCET Result  HPCET Syllabus  HP CET Exam Pattern  AP EAMCETAP EAMCET Application Form  AP EAMCET Syllabus  AP EAMCET Eligibility Criteria  AP EAMCET Exam Pattern  AP EAMCET Admit Card  AP',\n",
       " 'By scoring good marks in these exams, the candidate can secure admission to either Bachelor of Technology (B.Tech), Master of Technology (M.Tech), Bachelor of Science (B.Sc), Master of Science(M.Sc), doctorate (PhD.) along with many other courses.',\n",
       " 'By scoring good marks in these exams, the candidate can secure admission to either Bachelor of Technology (B.Tech), Master of Technology (M.Tech), Bachelor of Science (B.Sc), Master of Science(M.Sc), doctorate (PhD.) along with many other courses.',\n",
       " 'By scoring good marks in these exams, the candidate can secure admission to either Bachelor of Technology (B.Tech), Master of Technology (M.Tech), Bachelor of Science (B.Sc), Master of Science(M.Sc), doctorate (PhD.) along with many other courses.',\n",
       " 'Application Form  SRMJEEE Admit Card  SRMJEEE Dates  SRMJEEE Question Paper  SRMJEEE Answer Key  SRMJEEE Results  SRMJEEE Counseling  SRMJEEE College List  SRMJEEE Cutoffs  SRMJEEE Rank List  SRMJEEE Seat Allotment  GCETGCET Application Form  GCET Syllabus  GCET Exam Pattern  GCET Admit Card  GCET Exam Dates  GCET Question Papers  GCET Answer Key  GCET Results  GCET Cutoff  GCET Rank List  Assam CEEAssam CEE Application Form  Assam CEE Syllabus  Assam CEE Pattern  Assam CEE Admit Card  Assam',\n",
       " 'Application Form  SRMJEEE Admit Card  SRMJEEE Dates  SRMJEEE Question Paper  SRMJEEE Answer Key  SRMJEEE Results  SRMJEEE Counseling  SRMJEEE College List  SRMJEEE Cutoffs  SRMJEEE Rank List  SRMJEEE Seat Allotment  GCETGCET Application Form  GCET Syllabus  GCET Exam Pattern  GCET Admit Card  GCET Exam Dates  GCET Question Papers  GCET Answer Key  GCET Results  GCET Cutoff  GCET Rank List  Assam CEEAssam CEE Application Form  Assam CEE Syllabus  Assam CEE Pattern  Assam CEE Admit Card  Assam',\n",
       " 'TS EAMCETTS EAMCET Application form  TS EAMCET Syllabus  TS EAMCET Pattern  TS EAMCET Eligibility criteria  TS EAMCET Exam Date  TS EAMCET Admit Card  TS EAMCET Question Paper  TS EAMCET Answer Key  TS EAMCET Result  TS EAMCET Cutoff  TNEATNEA Counselling  TNEA Rank List  TNEA Application Form  TNEA Dates  TNEA Cut Off  TNEA College Predictor  TNEA Random Number  TNEA Certificate Verification  TNEA College List  TNEA Syllabus  TNEA Allotment  KEAMKEAM Application Form  KEAM Syllabus  KEAM Exam',\n",
       " 'PTUPTU Application Form  PTU Exam Results  PTU Syllabus  PTU Exam Dates  PTU Admit Card  PTU College List  PTU Counselling   CMC VelloreVITEEEVITEEE Exam Dates  VITEEE Result  VITEEE Application Form  VITEEE Question Papers  VITEEE Syllabus  VITEEE Exam Pattern  VITEEE College List  VITEEE Cut Off  VITEEE Admit Card  VITEEE Answer Key  VITEEE Rank List  VITEEE Allotment  VITEEE Counselling   AP POLYCET GPAT JIPMER NATA JEXPOTS POLYCETTS POLYCET Question Paper   AFMC UPCET INI CETJKCETJKCET',\n",
       " 'Advanced 2023 Paper AnalysisJEE Advanced 2022 Question PaperJEE Advanced Question PapersJEE Advanced Answer KeysJEE Advanced ResultsJEE Advanced Marks vs RankJEE Advanced Rank PredictorJEE Advanced Paper AnalysisJEE Main 2024JEE Main 2024 Question Papers with AnswersJEE Main 2024 Mock TestJEE Main 2023 Question PapersJEE Main Toppers List 2023JEE Main 2023 Paper AnalysisJEE Main 2022 Question PapersJEE Main 2022 Paper AnalysisJEE Main Rank PredictorJEE Main ResultsJEE Sample PaperJEE Question',\n",
       " 'Advanced 2023 Paper AnalysisJEE Advanced 2022 Question PaperJEE Advanced Question PapersJEE Advanced Answer KeysJEE Advanced ResultsJEE Advanced Marks vs RankJEE Advanced Rank PredictorJEE Advanced Paper AnalysisJEE Main 2024JEE Main 2024 Question Papers with AnswersJEE Main 2024 Mock TestJEE Main 2023 Question PapersJEE Main Toppers List 2023JEE Main 2023 Paper AnalysisJEE Main 2022 Question PapersJEE Main 2022 Paper AnalysisJEE Main Rank PredictorJEE Main ResultsJEE Sample PaperJEE Question',\n",
       " \"EXAM PREPARATIONFree CAT PrepFree IAS PrepMathsPhysicsChemistryBiologyJEE 2024JEE Advanced 2023 Question Paper with AnswersJEE Main Mock TestJEE Main 2024 Question Papers with AnswersJEE Main 2023 Question Papers with AnswersJEE Advanced 2022 Question Paper with AnswersNEET 2023 Question PaperNEET 2023 Question Paper AnalysisNEET 2022 Answer KeyRESOURCESCAT College PredictorWorksheetsBYJU'S AnswerDSSLHome TuitionAll ProductsCalculatorsFormulas\",\n",
       " \"EXAM PREPARATIONFree CAT PrepFree IAS PrepMathsPhysicsChemistryBiologyJEE 2024JEE Advanced 2023 Question Paper with AnswersJEE Main Mock TestJEE Main 2024 Question Papers with AnswersJEE Main 2023 Question Papers with AnswersJEE Advanced 2022 Question Paper with AnswersNEET 2023 Question PaperNEET 2023 Question Paper AnalysisNEET 2022 Answer KeyRESOURCESCAT College PredictorWorksheetsBYJU'S AnswerDSSLHome TuitionAll ProductsCalculatorsFormulas\"]"
      ]
     },
     "execution_count": 75,
     "metadata": {},
     "output_type": "execute_result"
    }
   ],
   "source": [
    "cleaned_documents"
   ]
  },
  {
   "cell_type": "code",
   "execution_count": 76,
   "metadata": {},
   "outputs": [],
   "source": [
    "rerank_docs  = co.rerank(query=query,documents=cleaned_documents,top_n=25,model=\"rerank-english-v2.0\")"
   ]
  },
  {
   "cell_type": "code",
   "execution_count": 77,
   "metadata": {},
   "outputs": [
    {
     "data": {
      "text/plain": [
       "[Document(page_content='KCET Counselling  KCET Sample Papers  KCET FAQs  KCET Notifications  KCET Solutions  WBJEEWBJEE Exam Dates  WBJEE Application Form  WBJEE Syllabus  WBJEE Question Paper  WBJEE Admit Card  WBJEE Cutoff  WBJEE Eligibility  WBJEE Exam Pattern  WBJEE Counselling  WBJEE Notifications  GUJCETGUJCET Exam Dates  GUJCET Application Form  GUJCET Syllabus  GUJCET Question Papers  GUJCET Admit Card  GUJCET Cut Off  GUJCET Eligibility  GUJCET Exam Pattern  SRMJEEESRMJEEE Application Form  SRMJEEE Admit', metadata={'description': 'Entrance exams are the gateway to securing a seat in premiere institutes such as the IITs, AIIMs, IISERs and IIMs in India. BYJU’s provide the details about all entrance exams.', 'language': 'en', 'source': 'https://byjus.com/entrance-examinations/', 'title': 'Entrance Examinations in India, Types, Dates, Links of different Entrance Examinations'}),\n",
       " Document(page_content='UPSEEUPSEE Exam Dates  UPSEE Application Form  UPSEE Syllabus  UPSEE Admit Card  UPSEE Cutoff  UPSEE Eligibility  UPSEE Exam Pattern  UPSEE Counselling  UPSEE Notification  UPSEE FAQs  UPSEE College Predictor  UPSEE Rank Predictor  HPCETHPCET Question Papers  HPCET Application Form  HPCET Dates  HPCET Counseling  HPCET Answer Key  HPCET Admit Card  HPCET Cut Off  HPCET Rank List  HPCET Result  HPCET Syllabus  HP CET Exam Pattern  AP EAMCETAP EAMCET Application Form  AP EAMCET Syllabus  AP', metadata={'description': 'Entrance exams are the gateway to securing a seat in premiere institutes such as the IITs, AIIMs, IISERs and IIMs in India. BYJU’s provide the details about all entrance exams.', 'language': 'en', 'source': 'https://byjus.com/entrance-examinations/', 'title': 'Entrance Examinations in India, Types, Dates, Links of different Entrance Examinations'}),\n",
       " Document(page_content='SRMJEEESRMJEEE Application Form  SRMJEEE Admit Card  SRMJEEE Dates  SRMJEEE Question Paper  SRMJEEE Answer Key  SRMJEEE Results  SRMJEEE Counseling  SRMJEEE College List  SRMJEEE Cutoffs  SRMJEEE Rank List  SRMJEEE Seat Allotment  GCETGCET Application Form  GCET Syllabus  GCET Exam Pattern  GCET Admit Card  GCET Exam Dates  GCET Question Papers  GCET Answer Key  GCET Results  GCET Cutoff  GCET Rank List  Assam CEEAssam CEE Application Form  Assam CEE Syllabus  Assam CEE Pattern  Assam CEE', metadata={'description': 'Entrance exams are the gateway to securing a seat in premiere institutes such as the IITs, AIIMs, IISERs and IIMs in India. BYJU’s provide the details about all entrance exams.', 'language': 'en', 'source': 'https://byjus.com/entrance-examinations/', 'title': 'Entrance Examinations in India, Types, Dates, Links of different Entrance Examinations'}),\n",
       " Document(page_content='Question Paper  OJEE Allotment  OJEE Answer Key  OJEE College List  PTUPTU Application Form  PTU Exam Results  PTU Syllabus  PTU Exam Dates  PTU Admit Card  PTU College List  PTU Counselling   CMC VelloreVITEEEVITEEE Exam Dates  VITEEE Result  VITEEE Application Form  VITEEE Question Papers  VITEEE Syllabus  VITEEE Exam Pattern  VITEEE College List  VITEEE Cut Off  VITEEE Admit Card  VITEEE Answer Key  VITEEE Rank List  VITEEE Allotment  VITEEE Counselling   AP POLYCET GPAT JIPMER NATA JEXPOTS', metadata={'description': 'Entrance exams are the gateway to securing a seat in premiere institutes such as the IITs, AIIMs, IISERs and IIMs in India. BYJU’s provide the details about all entrance exams.', 'language': 'en', 'source': 'https://byjus.com/entrance-examinations/', 'title': 'Entrance Examinations in India, Types, Dates, Links of different Entrance Examinations'}),\n",
       " Document(page_content='Question Paper  OJEE Allotment  OJEE Answer Key  OJEE College List  PTUPTU Application Form  PTU Exam Results  PTU Syllabus  PTU Exam Dates  PTU Admit Card  PTU College List  PTU Counselling   CMC VelloreVITEEEVITEEE Exam Dates  VITEEE Result  VITEEE Application Form  VITEEE Question Papers  VITEEE Syllabus  VITEEE Exam Pattern  VITEEE College List  VITEEE Cut Off  VITEEE Admit Card  VITEEE Answer Key  VITEEE Rank List  VITEEE Allotment  VITEEE Counselling   AP POLYCET GPAT JIPMER NATA JEXPOTS', metadata={'description': 'Entrance exams are the gateway to securing a seat in premiere institutes such as the IITs, AIIMs, IISERs and IIMs in India. BYJU’s provide the details about all entrance exams.', 'language': 'en', 'source': 'https://byjus.com/entrance-examinations/', 'title': 'Entrance Examinations in India, Types, Dates, Links of different Entrance Examinations'}),\n",
       " Document(page_content='Exam Pattern  KCET Counselling  KCET Sample Papers  KCET FAQs  KCET Notifications  KCET Solutions  WBJEEWBJEE Exam Dates  WBJEE Application Form  WBJEE Syllabus  WBJEE Question Paper  WBJEE Admit Card  WBJEE Cutoff  WBJEE Eligibility  WBJEE Exam Pattern  WBJEE Counselling  WBJEE Notifications  GUJCETGUJCET Exam Dates  GUJCET Application Form  GUJCET Syllabus  GUJCET Question Papers  GUJCET Admit Card  GUJCET Cut Off  GUJCET Eligibility  GUJCET Exam Pattern  SRMJEEESRMJEEE Application Form', metadata={'description': 'Entrance exams are the gateway to securing a seat in premiere institutes such as the IITs, AIIMs, IISERs and IIMs in India. BYJU’s provide the details about all entrance exams.', 'language': 'en', 'source': 'https://byjus.com/entrance-examinations/', 'title': 'Entrance Examinations in India, Types, Dates, Links of different Entrance Examinations'}),\n",
       " Document(page_content='Exam Pattern  KCET Counselling  KCET Sample Papers  KCET FAQs  KCET Notifications  KCET Solutions  WBJEEWBJEE Exam Dates  WBJEE Application Form  WBJEE Syllabus  WBJEE Question Paper  WBJEE Admit Card  WBJEE Cutoff  WBJEE Eligibility  WBJEE Exam Pattern  WBJEE Counselling  WBJEE Notifications  GUJCETGUJCET Exam Dates  GUJCET Application Form  GUJCET Syllabus  GUJCET Question Papers  GUJCET Admit Card  GUJCET Cut Off  GUJCET Eligibility  GUJCET Exam Pattern  SRMJEEESRMJEEE Application Form', metadata={'description': 'Entrance exams are the gateway to securing a seat in premiere institutes such as the IITs, AIIMs, IISERs and IIMs in India. BYJU’s provide the details about all entrance exams.', 'language': 'en', 'source': 'https://byjus.com/entrance-examinations/', 'title': 'Entrance Examinations in India, Types, Dates, Links of different Entrance Examinations'}),\n",
       " Document(page_content='Gujarat PGCET – Gujarat Post Graduate Common Entrance Test\\n\\n\\nHaryana LEET – Haryana Lateral Entry Entrance Test for Engineering', metadata={'description': 'Entrance exams are the gateway to securing a seat in premiere institutes such as the IITs, AIIMs, IISERs and IIMs in India. BYJU’s provide the details about all entrance exams.', 'language': 'en', 'source': 'https://byjus.com/entrance-examinations/', 'title': 'Entrance Examinations in India, Types, Dates, Links of different Entrance Examinations'}),\n",
       " Document(page_content='Gujarat PGCET – Gujarat Post Graduate Common Entrance Test\\n\\n\\nHaryana LEET – Haryana Lateral Entry Entrance Test for Engineering', metadata={'description': 'Entrance exams are the gateway to securing a seat in premiere institutes such as the IITs, AIIMs, IISERs and IIMs in India. BYJU’s provide the details about all entrance exams.', 'language': 'en', 'source': 'https://byjus.com/entrance-examinations/', 'title': 'Entrance Examinations in India, Types, Dates, Links of different Entrance Examinations'}),\n",
       " Document(page_content='Answer KeyNEET 2023 Question Paper AnalysisNEET 2022 Question PaperNEET 2022 Answer KeyNEET 2022 Question paper analysisNEET 2022 ResultsNEET Eligibility CriteriaNEET Question PapersNEET Sample PapersNEET PreparationNEET SyllabusNEET QuestionsGATE 2024GATEGATE Previous Year Question PapersGATE Syllabus GATE Syllabus For CSEGATE Syllabus For ECEGATE Syllabus For Civil EngineeringGATE Syllabus For Mechanical EngineeringGATE Aptitude SyllabusGATE Study Material GATE Notes For CSEGATE Difference', metadata={'description': 'Entrance exams are the gateway to securing a seat in premiere institutes such as the IITs, AIIMs, IISERs and IIMs in India. BYJU’s provide the details about all entrance exams.', 'language': 'en', 'source': 'https://byjus.com/entrance-examinations/', 'title': 'Entrance Examinations in India, Types, Dates, Links of different Entrance Examinations'}),\n",
       " Document(page_content='Off  TNEA College Predictor  TNEA Random Number  TNEA Certificate Verification  TNEA College List  TNEA Syllabus  TNEA Allotment  KEAMKEAM Application Form  KEAM Syllabus  KEAM Exam Pattern  KEAM Eligibility Criteria  KEAM Admit Card  KEAM Exam Date  KEAM Question Paper  KEAM Answer Key  KEAM Result  KEAM Cutoff  KEAM Allotment  KEAM Rank List  KEAM College Predictor   JEECUPBITSATBITSAT Exam Dates  BITSAT Cut Off  BITSAT Question Papers  BITSAT Application Form  BITSAT Syllabus  BITSAT Admit', metadata={'description': 'Entrance exams are the gateway to securing a seat in premiere institutes such as the IITs, AIIMs, IISERs and IIMs in India. BYJU’s provide the details about all entrance exams.', 'language': 'en', 'source': 'https://byjus.com/entrance-examinations/', 'title': 'Entrance Examinations in India, Types, Dates, Links of different Entrance Examinations'}),\n",
       " Document(page_content='Off  TNEA College Predictor  TNEA Random Number  TNEA Certificate Verification  TNEA College List  TNEA Syllabus  TNEA Allotment  KEAMKEAM Application Form  KEAM Syllabus  KEAM Exam Pattern  KEAM Eligibility Criteria  KEAM Admit Card  KEAM Exam Date  KEAM Question Paper  KEAM Answer Key  KEAM Result  KEAM Cutoff  KEAM Allotment  KEAM Rank List  KEAM College Predictor   JEECUPBITSATBITSAT Exam Dates  BITSAT Cut Off  BITSAT Question Papers  BITSAT Application Form  BITSAT Syllabus  BITSAT Admit', metadata={'description': 'Entrance exams are the gateway to securing a seat in premiere institutes such as the IITs, AIIMs, IISERs and IIMs in India. BYJU’s provide the details about all entrance exams.', 'language': 'en', 'source': 'https://byjus.com/entrance-examinations/', 'title': 'Entrance Examinations in India, Types, Dates, Links of different Entrance Examinations'}),\n",
       " Document(page_content='Card  UPSEE Cutoff  UPSEE Eligibility  UPSEE Exam Pattern  UPSEE Counselling  UPSEE Notification  UPSEE FAQs  UPSEE College Predictor  UPSEE Rank Predictor  HPCETHPCET Question Papers  HPCET Application Form  HPCET Dates  HPCET Counseling  HPCET Answer Key  HPCET Admit Card  HPCET Cut Off  HPCET Rank List  HPCET Result  HPCET Syllabus  HP CET Exam Pattern  AP EAMCETAP EAMCET Application Form  AP EAMCET Syllabus  AP EAMCET Eligibility Criteria  AP EAMCET Exam Pattern  AP EAMCET Admit Card  AP', metadata={'description': 'Entrance exams are the gateway to securing a seat in premiere institutes such as the IITs, AIIMs, IISERs and IIMs in India. BYJU’s provide the details about all entrance exams.', 'language': 'en', 'source': 'https://byjus.com/entrance-examinations/', 'title': 'Entrance Examinations in India, Types, Dates, Links of different Entrance Examinations'}),\n",
       " Document(page_content='Card  UPSEE Cutoff  UPSEE Eligibility  UPSEE Exam Pattern  UPSEE Counselling  UPSEE Notification  UPSEE FAQs  UPSEE College Predictor  UPSEE Rank Predictor  HPCETHPCET Question Papers  HPCET Application Form  HPCET Dates  HPCET Counseling  HPCET Answer Key  HPCET Admit Card  HPCET Cut Off  HPCET Rank List  HPCET Result  HPCET Syllabus  HP CET Exam Pattern  AP EAMCETAP EAMCET Application Form  AP EAMCET Syllabus  AP EAMCET Eligibility Criteria  AP EAMCET Exam Pattern  AP EAMCET Admit Card  AP', metadata={'description': 'Entrance exams are the gateway to securing a seat in premiere institutes such as the IITs, AIIMs, IISERs and IIMs in India. BYJU’s provide the details about all entrance exams.', 'language': 'en', 'source': 'https://byjus.com/entrance-examinations/', 'title': 'Entrance Examinations in India, Types, Dates, Links of different Entrance Examinations'}),\n",
       " Document(page_content='By scoring good marks in these exams, the candidate can secure admission to either Bachelor of Technology (B.Tech), Master of Technology (M.Tech), Bachelor of Science (B.Sc), Master of Science(M.Sc), doctorate (PhD.) along with many other courses.', metadata={'description': 'Entrance exams are the gateway to securing a seat in premiere institutes such as the IITs, AIIMs, IISERs and IIMs in India. BYJU’s provide the details about all entrance exams.', 'language': 'en', 'source': 'https://byjus.com/entrance-examinations/', 'title': 'Entrance Examinations in India, Types, Dates, Links of different Entrance Examinations'}),\n",
       " Document(page_content='By scoring good marks in these exams, the candidate can secure admission to either Bachelor of Technology (B.Tech), Master of Technology (M.Tech), Bachelor of Science (B.Sc), Master of Science(M.Sc), doctorate (PhD.) along with many other courses.', metadata={'description': 'Entrance exams are the gateway to securing a seat in premiere institutes such as the IITs, AIIMs, IISERs and IIMs in India. BYJU’s provide the details about all entrance exams.', 'language': 'en', 'source': 'https://byjus.com/entrance-examinations/', 'title': 'Entrance Examinations in India, Types, Dates, Links of different Entrance Examinations'}),\n",
       " Document(page_content='By scoring good marks in these exams, the candidate can secure admission to either Bachelor of Technology (B.Tech), Master of Technology (M.Tech), Bachelor of Science (B.Sc), Master of Science(M.Sc), doctorate (PhD.) along with many other courses.', metadata={'description': 'Entrance exams are the gateway to securing a seat in premiere institutes such as the IITs, AIIMs, IISERs and IIMs in India. BYJU’s provide the details about all entrance exams.', 'language': 'en', 'source': 'https://byjus.com/entrance-examinations/', 'title': 'Entrance Examinations in India, Types, Dates, Links of different Entrance Examinations'}),\n",
       " Document(page_content='Application Form  SRMJEEE Admit Card  SRMJEEE Dates  SRMJEEE Question Paper  SRMJEEE Answer Key  SRMJEEE Results  SRMJEEE Counseling  SRMJEEE College List  SRMJEEE Cutoffs  SRMJEEE Rank List  SRMJEEE Seat Allotment  GCETGCET Application Form  GCET Syllabus  GCET Exam Pattern  GCET Admit Card  GCET Exam Dates  GCET Question Papers  GCET Answer Key  GCET Results  GCET Cutoff  GCET Rank List  Assam CEEAssam CEE Application Form  Assam CEE Syllabus  Assam CEE Pattern  Assam CEE Admit Card  Assam', metadata={'description': 'Entrance exams are the gateway to securing a seat in premiere institutes such as the IITs, AIIMs, IISERs and IIMs in India. BYJU’s provide the details about all entrance exams.', 'language': 'en', 'source': 'https://byjus.com/entrance-examinations/', 'title': 'Entrance Examinations in India, Types, Dates, Links of different Entrance Examinations'}),\n",
       " Document(page_content='Application Form  SRMJEEE Admit Card  SRMJEEE Dates  SRMJEEE Question Paper  SRMJEEE Answer Key  SRMJEEE Results  SRMJEEE Counseling  SRMJEEE College List  SRMJEEE Cutoffs  SRMJEEE Rank List  SRMJEEE Seat Allotment  GCETGCET Application Form  GCET Syllabus  GCET Exam Pattern  GCET Admit Card  GCET Exam Dates  GCET Question Papers  GCET Answer Key  GCET Results  GCET Cutoff  GCET Rank List  Assam CEEAssam CEE Application Form  Assam CEE Syllabus  Assam CEE Pattern  Assam CEE Admit Card  Assam', metadata={'description': 'Entrance exams are the gateway to securing a seat in premiere institutes such as the IITs, AIIMs, IISERs and IIMs in India. BYJU’s provide the details about all entrance exams.', 'language': 'en', 'source': 'https://byjus.com/entrance-examinations/', 'title': 'Entrance Examinations in India, Types, Dates, Links of different Entrance Examinations'}),\n",
       " Document(page_content='TS EAMCETTS EAMCET Application form  TS EAMCET Syllabus  TS EAMCET Pattern  TS EAMCET Eligibility criteria  TS EAMCET Exam Date  TS EAMCET Admit Card  TS EAMCET Question Paper  TS EAMCET Answer Key  TS EAMCET Result  TS EAMCET Cutoff  TNEATNEA Counselling  TNEA Rank List  TNEA Application Form  TNEA Dates  TNEA Cut Off  TNEA College Predictor  TNEA Random Number  TNEA Certificate Verification  TNEA College List  TNEA Syllabus  TNEA Allotment  KEAMKEAM Application Form  KEAM Syllabus  KEAM Exam', metadata={'description': 'Entrance exams are the gateway to securing a seat in premiere institutes such as the IITs, AIIMs, IISERs and IIMs in India. BYJU’s provide the details about all entrance exams.', 'language': 'en', 'source': 'https://byjus.com/entrance-examinations/', 'title': 'Entrance Examinations in India, Types, Dates, Links of different Entrance Examinations'}),\n",
       " Document(page_content='PTUPTU Application Form  PTU Exam Results  PTU Syllabus  PTU Exam Dates  PTU Admit Card  PTU College List  PTU Counselling   CMC VelloreVITEEEVITEEE Exam Dates  VITEEE Result  VITEEE Application Form  VITEEE Question Papers  VITEEE Syllabus  VITEEE Exam Pattern  VITEEE College List  VITEEE Cut Off  VITEEE Admit Card  VITEEE Answer Key  VITEEE Rank List  VITEEE Allotment  VITEEE Counselling   AP POLYCET GPAT JIPMER NATA JEXPOTS POLYCETTS POLYCET Question Paper   AFMC UPCET INI CETJKCETJKCET', metadata={'description': 'Entrance exams are the gateway to securing a seat in premiere institutes such as the IITs, AIIMs, IISERs and IIMs in India. BYJU’s provide the details about all entrance exams.', 'language': 'en', 'source': 'https://byjus.com/entrance-examinations/', 'title': 'Entrance Examinations in India, Types, Dates, Links of different Entrance Examinations'}),\n",
       " Document(page_content='Advanced 2023 Paper AnalysisJEE Advanced 2022 Question PaperJEE Advanced Question PapersJEE Advanced Answer KeysJEE Advanced ResultsJEE Advanced Marks vs RankJEE Advanced Rank PredictorJEE Advanced Paper AnalysisJEE Main 2024JEE Main 2024 Question Papers with AnswersJEE Main 2024 Mock TestJEE Main 2023 Question PapersJEE Main Toppers List 2023JEE Main 2023 Paper AnalysisJEE Main 2022 Question PapersJEE Main 2022 Paper AnalysisJEE Main Rank PredictorJEE Main ResultsJEE Sample PaperJEE Question', metadata={'description': 'Entrance exams are the gateway to securing a seat in premiere institutes such as the IITs, AIIMs, IISERs and IIMs in India. BYJU’s provide the details about all entrance exams.', 'language': 'en', 'source': 'https://byjus.com/entrance-examinations/', 'title': 'Entrance Examinations in India, Types, Dates, Links of different Entrance Examinations'}),\n",
       " Document(page_content='Advanced 2023 Paper AnalysisJEE Advanced 2022 Question PaperJEE Advanced Question PapersJEE Advanced Answer KeysJEE Advanced ResultsJEE Advanced Marks vs RankJEE Advanced Rank PredictorJEE Advanced Paper AnalysisJEE Main 2024JEE Main 2024 Question Papers with AnswersJEE Main 2024 Mock TestJEE Main 2023 Question PapersJEE Main Toppers List 2023JEE Main 2023 Paper AnalysisJEE Main 2022 Question PapersJEE Main 2022 Paper AnalysisJEE Main Rank PredictorJEE Main ResultsJEE Sample PaperJEE Question', metadata={'description': 'Entrance exams are the gateway to securing a seat in premiere institutes such as the IITs, AIIMs, IISERs and IIMs in India. BYJU’s provide the details about all entrance exams.', 'language': 'en', 'source': 'https://byjus.com/entrance-examinations/', 'title': 'Entrance Examinations in India, Types, Dates, Links of different Entrance Examinations'}),\n",
       " Document(page_content=\"EXAM PREPARATION\\nFree CAT PrepFree IAS PrepMathsPhysicsChemistryBiologyJEE 2024JEE Advanced 2023 Question Paper with AnswersJEE Main Mock TestJEE Main 2024 Question Papers with AnswersJEE Main 2023 Question Papers with AnswersJEE Advanced 2022 Question Paper with AnswersNEET 2023 Question PaperNEET 2023 Question Paper AnalysisNEET 2022 Answer KeyRESOURCES\\nCAT College PredictorWorksheetsBYJU'S AnswerDSSLHome TuitionAll ProductsCalculatorsFormulas\", metadata={'description': 'Entrance exams are the gateway to securing a seat in premiere institutes such as the IITs, AIIMs, IISERs and IIMs in India. BYJU’s provide the details about all entrance exams.', 'language': 'en', 'source': 'https://byjus.com/entrance-examinations/', 'title': 'Entrance Examinations in India, Types, Dates, Links of different Entrance Examinations'}),\n",
       " Document(page_content=\"EXAM PREPARATION\\nFree CAT PrepFree IAS PrepMathsPhysicsChemistryBiologyJEE 2024JEE Advanced 2023 Question Paper with AnswersJEE Main Mock TestJEE Main 2024 Question Papers with AnswersJEE Main 2023 Question Papers with AnswersJEE Advanced 2022 Question Paper with AnswersNEET 2023 Question PaperNEET 2023 Question Paper AnalysisNEET 2022 Answer KeyRESOURCES\\nCAT College PredictorWorksheetsBYJU'S AnswerDSSLHome TuitionAll ProductsCalculatorsFormulas\", metadata={'description': 'Entrance exams are the gateway to securing a seat in premiere institutes such as the IITs, AIIMs, IISERs and IIMs in India. BYJU’s provide the details about all entrance exams.', 'language': 'en', 'source': 'https://byjus.com/entrance-examinations/', 'title': 'Entrance Examinations in India, Types, Dates, Links of different Entrance Examinations'})]"
      ]
     },
     "execution_count": 77,
     "metadata": {},
     "output_type": "execute_result"
    }
   ],
   "source": [
    "docs"
   ]
  },
  {
   "cell_type": "code",
   "execution_count": 92,
   "metadata": {},
   "outputs": [],
   "source": [
    "SYSTEM_TEMPLATE = \"\"\"\n",
    "Answer you're questions solely based on the context below and use the persona stated. If the question canot be answered by the context, just answer 'I don't know'.\n",
    "You should give proper answers and provide almost all the information ,for example do not tell the student to search on the internet.\n",
    "\n",
    "<context>\n",
    "{context}\n",
    "</context>\n",
    "\"\"\"\n",
    "\n",
    "question_answering_prompt = ChatPromptTemplate.from_messages(\n",
    "    [\n",
    "        (\n",
    "            \"system\",\n",
    "            SYSTEM_TEMPLATE,\n",
    "        ),\n",
    "        MessagesPlaceholder(variable_name=\"messages\"),\n",
    "    ]\n",
    ")\n",
    "\n",
    "document_chain = create_stuff_documents_chain(chat, question_answering_prompt)"
   ]
  },
  {
   "cell_type": "code",
   "execution_count": 82,
   "metadata": {},
   "outputs": [
    {
     "name": "stdout",
     "output_type": "stream",
     "text": [
      "Document:KCET Counselling  KCET Sample Papers  KCET FAQs  KCET Notifications  KCET Solutions  WBJEEWBJEE Exam Dates  WBJEE Application Form  WBJEE Syllabus  WBJEE Question Paper  WBJEE Admit Card  WBJEE Cutoff  WBJEE Eligibility  WBJEE Exam Pattern  WBJEE Counselling  WBJEE Notifications  GUJCETGUJCET Exam Dates  GUJCET Application Form  GUJCET Syllabus  GUJCET Question Papers  GUJCET Admit Card  GUJCET Cut Off  GUJCET Eligibility  GUJCET Exam Pattern  SRMJEEESRMJEEE Application Form  SRMJEEE Admit\n",
      "Document:UPSEEUPSEE Exam Dates  UPSEE Application Form  UPSEE Syllabus  UPSEE Admit Card  UPSEE Cutoff  UPSEE Eligibility  UPSEE Exam Pattern  UPSEE Counselling  UPSEE Notification  UPSEE FAQs  UPSEE College Predictor  UPSEE Rank Predictor  HPCETHPCET Question Papers  HPCET Application Form  HPCET Dates  HPCET Counseling  HPCET Answer Key  HPCET Admit Card  HPCET Cut Off  HPCET Rank List  HPCET Result  HPCET Syllabus  HP CET Exam Pattern  AP EAMCETAP EAMCET Application Form  AP EAMCET Syllabus  AP\n",
      "Document:SRMJEEESRMJEEE Application Form  SRMJEEE Admit Card  SRMJEEE Dates  SRMJEEE Question Paper  SRMJEEE Answer Key  SRMJEEE Results  SRMJEEE Counseling  SRMJEEE College List  SRMJEEE Cutoffs  SRMJEEE Rank List  SRMJEEE Seat Allotment  GCETGCET Application Form  GCET Syllabus  GCET Exam Pattern  GCET Admit Card  GCET Exam Dates  GCET Question Papers  GCET Answer Key  GCET Results  GCET Cutoff  GCET Rank List  Assam CEEAssam CEE Application Form  Assam CEE Syllabus  Assam CEE Pattern  Assam CEE\n"
     ]
    }
   ],
   "source": [
    "for i, d in enumerate(rerank_docs):\n",
    "    print(f'Document:{cleaned_documents[i]}')\n"
   ]
  },
  {
   "cell_type": "code",
   "execution_count": 93,
   "metadata": {},
   "outputs": [
    {
     "data": {
      "text/plain": [
       "\"Congratulations on completing your 12th CBSE Board Exams and taking the JEE Mains exam!\\n\\nConsidering your scores, you may be eligible for some engineering colleges and universities. However, the specific colleges and courses you can get into will depend on the cutoffs and eligibility criteria of each institution.\\n\\nBased on the context provided, I can suggest that you explore the following options:\\n\\n1. **UPSEE**: With your JEE Mains score, you might be eligible for some colleges in Uttar Pradesh. You can check the UPSEE (Uttar Pradesh State Entrance Examination) website for more information on the application process, eligibility, and participating colleges.\\n2. **HPCET**: You can also consider applying to colleges in Himachal Pradesh through the HPCET (Himachal Pradesh Common Entrance Test). Check the HPCET website for more information on the application process, eligibility, and participating colleges.\\n3. **State-level exams**: Depending on your domicile or residence, you might be eligible for state-level exams like GUJCET (Gujarat), AP EAMCET (Andhra Pradesh), or Assam CEE (Assam). Research these exams and their corresponding application processes.\\n4. **Private colleges**: You can also explore private engineering colleges that may have their own admission processes. These colleges might consider your JEE Mains score, 12th board marks, or conduct their own entrance exams.\\n\\nBefore applying to any college or exam, make sure to check the eligibility criteria, application deadlines, and admission processes. It's essential to research and shortlist colleges that align with your preferences and scores.\\n\\nRemember to stay focused, and don't hesitate to reach out to the colleges or exam authorities for more information. Good luck with your future endeavors!\""
      ]
     },
     "execution_count": 93,
     "metadata": {},
     "output_type": "execute_result"
    }
   ],
   "source": [
    "document_chain.invoke(\n",
    "    {\n",
    "        \"context\": [Document(page_content=cleaned_documents[i]) for i,d in enumerate(rerank_docs)],\n",
    "        \"messages\": [\n",
    "            HumanMessage(content=\"I got 50% in 12th CBSE Board Exams and I got 68%tile in JEE Mains What do I do now?\")\n",
    "        ],\n",
    "    }\n",
    ")"
   ]
  },
  {
   "cell_type": "code",
   "execution_count": null,
   "metadata": {},
   "outputs": [],
   "source": []
  },
  {
   "cell_type": "code",
   "execution_count": null,
   "metadata": {},
   "outputs": [],
   "source": []
  }
 ],
 "metadata": {
  "kernelspec": {
   "display_name": "venv",
   "language": "python",
   "name": "python3"
  },
  "language_info": {
   "codemirror_mode": {
    "name": "ipython",
    "version": 3
   },
   "file_extension": ".py",
   "mimetype": "text/x-python",
   "name": "python",
   "nbconvert_exporter": "python",
   "pygments_lexer": "ipython3",
   "version": "3.12.3"
  }
 },
 "nbformat": 4,
 "nbformat_minor": 2
}
